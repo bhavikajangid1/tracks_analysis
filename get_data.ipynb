{
 "cells": [
  {
   "cell_type": "code",
   "execution_count": 4,
   "metadata": {},
   "outputs": [],
   "source": [
    "import base64\n",
    "import requests\n",
    "import datetime\n",
    "import pandas as pd\n",
    "from serverside.client_cred import client_id,client_secret,playlist_id"
   ]
  },
  {
   "cell_type": "code",
   "execution_count": 5,
   "metadata": {},
   "outputs": [],
   "source": [
    "client_id = client_id\n",
    "client_secret = client_secret\n",
    "playlist_id = playlist_id"
   ]
  },
  {
   "cell_type": "code",
   "execution_count": 6,
   "metadata": {},
   "outputs": [],
   "source": [
    "class SpotifyAPI(object):\n",
    "    access_token = None\n",
    "    access_token_expires = datetime.datetime.now()\n",
    "    access_token_did_expire = True\n",
    "    client_id = None\n",
    "    client_secret = None\n",
    "    token_url = 'https://accounts.spotify.com/api/token'\n",
    "    playlist_id = None\n",
    "    \n",
    "    def __init__(self ,client_id,client_secret,playlist_id,*args,**kwargs):\n",
    "        super().__init__(*args,**kwargs)\n",
    "        self.client_id = client_id\n",
    "        self.client_secret = client_secret\n",
    "        self.playlist_id = playlist_id\n",
    "        \n",
    "    def get_token_data(self):\n",
    "        return {\n",
    "        'grant_type':'client_credentials',\n",
    "                }\n",
    "        \n",
    "    def get_client_cred(self):\n",
    "        client_id = self.client_id\n",
    "        client_secret = self.client_secret\n",
    "        if client_secret == None or client_id == None:\n",
    "            raise Exception('you must set client_id and client_token')\n",
    "        client_cred = f\"{client_id}:{client_secret}\"\n",
    "        client_cred_b64 = base64.b64encode(client_cred.encode())\n",
    "        return client_cred_b64\n",
    "    \n",
    "    def get_token_headers(self): \n",
    "        client_cred_b64 = self.get_client_cred()\n",
    "        return {\n",
    "        'Authorization':f'Basic {client_cred_b64.decode()}',\n",
    "                }\n",
    "        \n",
    "    def perform_auth(self):\n",
    "        token_url = self.token_url\n",
    "        token_data = self.get_token_data()\n",
    "        token_header = self.get_token_headers()\n",
    "        response = requests.post(token_url, data=token_data,headers=token_header)\n",
    "        if response.status_code not in range(200,299):\n",
    "            return False  \n",
    "        token_response = response.json()\n",
    "        access_token = token_response['access_token']\n",
    "        now = datetime.datetime.now()\n",
    "        expires_in = token_response['expires_in']\n",
    "        expires = now + datetime.timedelta(seconds=expires_in)\n",
    "        self.access_token = access_token\n",
    "        self.access_token_expires  = expires\n",
    "        self.access_token_did_expire = expires < now\n",
    "        return True\n",
    "    \n",
    "    def get_playlist_track_ids(self):\n",
    "        header = {\n",
    "            'Authorization':f'Bearer {self.access_token}',\n",
    "        }\n",
    "        endpoint = f'https://api.spotify.com/v1/playlists/{playlist_id}'\n",
    "        r = requests.get(endpoint,headers=header).json()\n",
    "        track_list = r['tracks']['items']\n",
    "        n = len(track_list)\n",
    "        track_ids = []\n",
    "        for i in range(0,n-1):\n",
    "            track_ids.append(track_list[i]['track']['id'])\n",
    "        return track_ids\n",
    "    \n",
    "    def get_playlist_track_list(self):\n",
    "        track_ids = self.get_playlist_track_ids()\n",
    "        tracks_info = {}\n",
    "        n = len(track_ids)\n",
    "        for i in range (0,n):\n",
    "            header = {\n",
    "                'Authorization':f'Bearer {self.access_token}',\n",
    "            }\n",
    "            endpoint = f'https://api.spotify.com/v1/audio-features/{track_ids[i]}'\n",
    "            r = requests.get(endpoint,headers=header).json()\n",
    "            tracks_info[f'{i}'] = {     'track_id':f'{track_ids[i]}',\n",
    "                                        'danceability':r['danceability'],\n",
    "                                        'enegy':r['energy'],\n",
    "                                        'loudness':r['loudness'],\n",
    "                                        'speechiness':r['speechiness'],\n",
    "                                        'acousticness':r['acousticness'],\n",
    "                                        'instrumentalness':r['instrumentalness'],\n",
    "                                        'liveness':r['liveness'],                        \n",
    "                                        'tempo':r['tempo'],\n",
    "                \n",
    "            }\n",
    "        return tracks_info\n",
    "\n",
    "        \n",
    "    "
   ]
  },
  {
   "cell_type": "code",
   "execution_count": 9,
   "metadata": {},
   "outputs": [
    {
     "data": {
      "text/plain": [
       "True"
      ]
     },
     "execution_count": 9,
     "metadata": {},
     "output_type": "execute_result"
    }
   ],
   "source": [
    "client = SpotifyAPI(client_id,client_secret,playlist_id)\n",
    "client.perform_auth()\n"
   ]
  },
  {
   "cell_type": "code",
   "execution_count": 10,
   "metadata": {},
   "outputs": [],
   "source": [
    "client.get_playlist_track_ids()\n",
    "tracks_info = client.get_playlist_track_list()\n",
    "df = pd.DataFrame(tracks_info).transpose()\n",
    "df.to_csv('tracks.csv',index=False,header=True)"
   ]
  }
 ],
 "metadata": {
  "kernelspec": {
   "display_name": "Python 3",
   "language": "python",
   "name": "python3"
  },
  "language_info": {
   "codemirror_mode": {
    "name": "ipython",
    "version": 3
   },
   "file_extension": ".py",
   "mimetype": "text/x-python",
   "name": "python",
   "nbconvert_exporter": "python",
   "pygments_lexer": "ipython3",
   "version": "3.11.1"
  },
  "orig_nbformat": 4,
  "vscode": {
   "interpreter": {
    "hash": "29afd29025b4bd8bc4b44fb913993acbef6c5a404247a377344d8372836320fb"
   }
  }
 },
 "nbformat": 4,
 "nbformat_minor": 2
}
